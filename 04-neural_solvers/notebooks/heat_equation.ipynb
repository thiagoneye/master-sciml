{
  "cells": [
    {
      "cell_type": "markdown",
      "metadata": {
        "id": "bw_RyTqIFKn7"
      },
      "source": [
        "## PINN para a Equação do Calor 1D\n",
        "\n",
        "Este notebook implementa uma **Rede Neural Informada pela Física (PINN)** para resolver a Equação do Calor 1D.\n",
        "\n",
        "A abordagem combina o aprendizado supervisionado tradicional com a imposição de uma restrição física (a própria equação diferencial parcial), permitindo que a rede neural aprenda a solução do problema em todo o domínio espaço-tempo.\n",
        "\n",
        "### A Equação do Calor 1D Transiente\n",
        "\n",
        "A equação governante do fenômeno é:\n",
        "\n",
        "$$ \\frac{\\partial T}{\\partial t} = \\alpha \\frac{\\partial^2 T}{\\partial x^2} $$\n",
        "\n",
        "Onde:\n",
        "- $T$ é a temperatura.\n",
        "- $t$ é o tempo.\n",
        "- $x$ é a posição.\n",
        "- $\\alpha$ é a difusividade térmica do material (uma constante).\n",
        "\n",
        "A rede neural será treinada para aproximar a função $T(x, t)$. A função de perda total será uma combinação de:\n",
        "\n",
        "1.  **Perda de Dados (MSE):** O erro entre a previsão da rede e os dados de medição fornecidos.\n",
        "2.  **Perda da Física (Residual da PDE):** Uma medida de quanto a saída da rede viola a equação do calor.\n",
        "\n",
        "### Resumo do Procedimento\n",
        "\n",
        "1.  **Carregar e Preparar Dados**: Carregue seu `df` e crie tensores para as posições `(x, t)` e temperaturas `T`.\n",
        "2.  **Gerar Pontos de Colocação**: Crie um conjunto de pontos `(x, t)` aleatórios dentro do seu domínio para avaliar a perda da física.\n",
        "3.  **Definir o Modelo**: Crie uma rede neural sequencial com Keras que mapeia `(x, t)` para `T`.\n",
        "4.  **Implementar as Funções de Perda**:\n",
        "    - `data_loss`: MSE entre as previsões e os dados reais.\n",
        "    - `physics_loss`: MSE do residual da PDE, calculado usando `tf.GradientTape` para obter as derivadas.\n",
        "5.  **Criar o Loop de Treinamento**:\n",
        "    - Em cada época, calcule a perda de dados e a perda da física.\n",
        "    - Some-as para obter a perda total.\n",
        "    - Use `tf.GradientTape` para encontrar os gradientes da perda total em relação aos pesos do modelo.\n",
        "    - Aplique esses gradientes usando um otimizador como o Adam.\n",
        "6.  **Treinar e Avaliar**: Execute o loop por um número suficiente de épocas e, ao final, use o `pinn_model` treinado para fazer previsões e visualizar a solução."
      ]
    },
    {
      "cell_type": "markdown",
      "metadata": {
        "id": "1YY0j6B2FKoA"
      },
      "source": [
        "### Importações"
      ]
    },
    {
      "cell_type": "code",
      "execution_count": 1,
      "metadata": {
        "colab": {
          "base_uri": "https://localhost:8080/"
        },
        "id": "0ZLxS6tKFKoB",
        "outputId": "b631b627-fd95-48ba-96b5-6019734fe412"
      },
      "outputs": [
        {
          "name": "stderr",
          "output_type": "stream",
          "text": [
            "2025-10-08 02:14:28.130792: I external/local_xla/xla/tsl/cuda/cudart_stub.cc:31] Could not find cuda drivers on your machine, GPU will not be used.\n",
            "2025-10-08 02:14:28.133681: I tensorflow/core/util/port.cc:153] oneDNN custom operations are on. You may see slightly different numerical results due to floating-point round-off errors from different computation orders. To turn them off, set the environment variable `TF_ENABLE_ONEDNN_OPTS=0`.\n",
            "2025-10-08 02:14:28.247715: I tensorflow/core/platform/cpu_feature_guard.cc:210] This TensorFlow binary is optimized to use available CPU instructions in performance-critical operations.\n",
            "To enable the following instructions: AVX2 AVX512F AVX512_VNNI FMA, in other operations, rebuild TensorFlow with the appropriate compiler flags.\n",
            "2025-10-08 02:14:32.354017: I tensorflow/core/util/port.cc:153] oneDNN custom operations are on. You may see slightly different numerical results due to floating-point round-off errors from different computation orders. To turn them off, set the environment variable `TF_ENABLE_ONEDNN_OPTS=0`.\n",
            "2025-10-08 02:14:32.354555: I external/local_xla/xla/tsl/cuda/cudart_stub.cc:31] Could not find cuda drivers on your machine, GPU will not be used.\n"
          ]
        },
        {
          "name": "stdout",
          "output_type": "stream",
          "text": [
            "TensorFlow Version: 2.20.0\n",
            "Número de GPUs disponíveis: 0\n",
            "O TensorFlow NÃO encontrou a GPU.\n"
          ]
        },
        {
          "name": "stderr",
          "output_type": "stream",
          "text": [
            "WARNING: All log messages before absl::InitializeLog() is called are written to STDERR\n",
            "E0000 00:00:1759900475.086112   10532 cuda_executor.cc:1309] INTERNAL: CUDA Runtime error: Failed call to cudaGetRuntimeVersion: Error loading CUDA libraries. GPU will not be used.: Error loading CUDA libraries. GPU will not be used.\n",
            "W0000 00:00:1759900475.347456   10532 gpu_device.cc:2342] Cannot dlopen some GPU libraries. Please make sure the missing libraries mentioned above are installed properly if you would like to use GPU. Follow the guide at https://www.tensorflow.org/install/gpu for how to download and setup the required libraries for your platform.\n",
            "Skipping registering GPU devices...\n"
          ]
        }
      ],
      "source": [
        "import os\n",
        "\n",
        "os.environ[\"CUDA_VISIBLE_DEVICES\"] = \"0\"\n",
        "os.environ[\"KERAS_BACKEND\"] = \"tensorflow\"\n",
        "\n",
        "import numpy as np\n",
        "import pandas as pd\n",
        "import matplotlib.pyplot as plt\n",
        "import tensorflow as tf\n",
        "import tensorflow_probability as tfp\n",
        "\n",
        "import time\n",
        "\n",
        "from sklearn.metrics import mean_squared_error, mean_absolute_error, r2_score\n",
        "\n",
        "tf.random.set_seed(42)\n",
        "np.random.seed(42)\n",
        "\n",
        "print(f\"TensorFlow Version: {tf.__version__}\")\n",
        "\n",
        "gpus = tf.config.list_physical_devices(\"GPU\")\n",
        "print(f\"Número de GPUs disponíveis: {len(gpus)}\")\n",
        "if gpus:\n",
        "    print(\"A GPU está sendo utilizada pelo TensorFlow.\")\n",
        "    print(\"Detalhes da GPU:\", gpus)\n",
        "else:\n",
        "    print(\"O TensorFlow NÃO encontrou a GPU.\")"
      ]
    },
    {
      "cell_type": "markdown",
      "metadata": {
        "id": "s0xf11VNFKoE"
      },
      "source": [
        "### Leitura e Preparação dos Dados"
      ]
    },
    {
      "cell_type": "code",
      "execution_count": 5,
      "metadata": {
        "colab": {
          "base_uri": "https://localhost:8080/",
          "height": 369
        },
        "id": "6HKiYckGFKoF",
        "outputId": "2f520101-1841-4e17-e001-3366db1f5d7c"
      },
      "outputs": [
        {
          "name": "stdout",
          "output_type": "stream",
          "text": [
            "Quantidade de pontos de treinamento 301.\n"
          ]
        },
        {
          "data": {
            "text/plain": [
              "(0.0, 1.0)"
            ]
          },
          "execution_count": 5,
          "metadata": {},
          "output_type": "execute_result"
        },
        {
          "data": {
            "image/png": "[encoded data removed]",
            "text/plain": [
              "<Figure size 800x300 with 1 Axes>"
            ]
          },
          "metadata": {},
          "output_type": "display_data"
        }
      ],
      "source": [
        "# Parâmetros do problema\n",
        "ALPHA = 0.5\n",
        "\n",
        "# Leitura dos dados\n",
        "df_full = pd.read_csv(\"../../00-scientific_computer/data/problem1.csv\")\n",
        "df = df_full[\n",
        "    (df_full[\"time\"] == 0) | (df_full[\"position\"] == 0) | (df_full[\"position\"] == 1)\n",
        "]\n",
        "# df = df.sample(frac=0.665, random_state=42)\n",
        "print(f\"Quantidade de pontos de treinamento {len(df)}.\")\n",
        "\n",
        "# Dados completos, entrada (x, t) e saída (T)\n",
        "X = df_full[[\"time\", \"position\"]].values\n",
        "T = df_full[[\"temperature\"]].values\n",
        "\n",
        "# Dados de treino\n",
        "X_train_raw = df[[\"time\", \"position\"]].values\n",
        "T_train_raw = df[[\"temperature\"]].values\n",
        "\n",
        "# Converte para tensores do TensorFlow\n",
        "X_train_tf = tf.convert_to_tensor(X_train_raw, dtype=tf.float32)\n",
        "T_train_tf = tf.convert_to_tensor(T_train_raw, dtype=tf.float32)\n",
        "\n",
        "# Plot\n",
        "fig, ax = plt.subplots(figsize=(8, 3))\n",
        "\n",
        "ax.scatter(X_train_raw[:, 0], X_train_raw[:, 1])\n",
        "\n",
        "ax.set_title(\"Pontos de Treinamento\", fontsize=14)\n",
        "ax.set_xlabel(\"Tempo (t)\", fontsize=10)\n",
        "ax.set_ylabel(\"Posição (x)\", fontsize=10)\n",
        "ax.set_xlim([X[:, 0].min(), X[:, 0].max()])\n",
        "ax.set_ylim([X[:, 1].min(), X[:, 1].max()])"
      ]
    },
    {
      "cell_type": "markdown",
      "metadata": {
        "id": "kFXdtXGiFKoG"
      },
      "source": [
        "### Normalização dos Dados\n",
        "\n",
        "Os dados das entrada e saída já se encontram normalizado, estando nas faixas `[0, 1]` e `[-1, 1]` respectivamente. Buscando melhorar a estabilidade e a velocidade do treinamento."
      ]
    },
    {
      "cell_type": "markdown",
      "metadata": {
        "id": "2tDyTNUPFKoH"
      },
      "source": [
        "### Geração dos Pontos de Colocação\n",
        "\n",
        "Estes são os pontos no interior do domínio onde não conhecemos a temperatura. Eles serão usados para calcular a **perda da física** ($L_{física}$), forçando a rede a obedecer à equação do calor."
      ]
    },
    {
      "cell_type": "code",
      "execution_count": 6,
      "metadata": {
        "colab": {
          "base_uri": "https://localhost:8080/",
          "height": 351
        },
        "id": "cq21D6y8FKoH",
        "outputId": "d5f7bf2e-27b0-48d4-dc6f-0014566211c3"
      },
      "outputs": [
        {
          "data": {
            "text/plain": [
              "(0.0, 1.0)"
            ]
          },
          "execution_count": 6,
          "metadata": {},
          "output_type": "execute_result"
        },
        {
          "data": {
            "image/png": "[encoded data removed]",
            "text/plain": [
              "<Figure size 800x300 with 1 Axes>"
            ]
          },
          "metadata": {},
          "output_type": "display_data"
        }
      ],
      "source": [
        "N_collocation = 20000\n",
        "\n",
        "# Pega os limites do domínio a partir dos dados\n",
        "t_min, t_max = df_full[\"time\"].min(), df_full[\"time\"].max()\n",
        "x_min, x_max = df_full[\"position\"].min(), df_full[\"position\"].max()\n",
        "\n",
        "# Gera pontos aleatórios dentro desses limites\n",
        "x_collocation = tf.random.uniform(\n",
        "    (N_collocation, 1), minval=x_min, maxval=x_max, dtype=tf.float32\n",
        ")\n",
        "t_collocation = tf.random.uniform(\n",
        "    (N_collocation, 1), minval=t_min, maxval=t_max, dtype=tf.float32\n",
        ")\n",
        "X_collocation_raw = tf.concat([t_collocation, x_collocation], axis=1)\n",
        "X_collocation_tf = tf.convert_to_tensor(X_collocation_raw, dtype=tf.float32)\n",
        "\n",
        "# Plot\n",
        "fig, ax = plt.subplots(figsize=(8, 3))\n",
        "\n",
        "ax.scatter(X_collocation_raw[:, 0], X_collocation_raw[:, 1])\n",
        "\n",
        "ax.set_title(\"Pontos de Colocação\", fontsize=14)\n",
        "ax.set_xlabel(\"Tempo (t)\", fontsize=10)\n",
        "ax.set_ylabel(\"Posição (x)\", fontsize=10)\n",
        "ax.set_xlim([t_min, t_max])\n",
        "ax.set_ylim([x_min, x_max])"
      ]
    },
    {
      "cell_type": "markdown",
      "metadata": {
        "id": "9cxz6TrxFKoJ"
      },
      "source": [
        "### Construção do Modelo (Rede Neural)"
      ]
    },
    {
      "cell_type": "code",
      "execution_count": 7,
      "metadata": {
        "colab": {
          "base_uri": "https://localhost:8080/",
          "height": 536
        },
        "id": "B1YPiAkcFKoK",
        "outputId": "312b9d22-b471-43ef-c086-31ff8726e7b4"
      },
      "outputs": [
        {
          "name": "stderr",
          "output_type": "stream",
          "text": [
            "/home/thiag/GitHub/master-sciml/env/lib/python3.10/site-packages/keras/src/layers/core/input_layer.py:27: UserWarning: Argument `input_shape` is deprecated. Use `shape` instead.\n",
            "  warnings.warn(\n"
          ]
        },
        {
          "data": {
            "text/html": [
              "<pre style=\"white-space:pre;overflow-x:auto;line-height:normal;font-family:Menlo,'DejaVu Sans Mono',consolas,'Courier New',monospace\"><span style=\"font-weight: bold\">Model: \"sequential\"</span>\n",
              "</pre>\n"
            ],
            "text/plain": [
              "\u001b[1mModel: \"sequential\"\u001b[0m\n"
            ]
          },
          "metadata": {},
          "output_type": "display_data"
        },
        {
          "data": {
            "text/html": [
              "<pre style=\"white-space:pre;overflow-x:auto;line-height:normal;font-family:Menlo,'DejaVu Sans Mono',consolas,'Courier New',monospace\">┏━━━━━━━━━━━━━━━━━━━━━━━━━━━━━━━━━┳━━━━━━━━━━━━━━━━━━━━━━━━┳━━━━━━━━━━━━━━━┓\n",
              "┃<span style=\"font-weight: bold\"> Layer (type)                    </span>┃<span style=\"font-weight: bold\"> Output Shape           </span>┃<span style=\"font-weight: bold\">       Param # </span>┃\n",
              "┡━━━━━━━━━━━━━━━━━━━━━━━━━━━━━━━━━╇━━━━━━━━━━━━━━━━━━━━━━━━╇━━━━━━━━━━━━━━━┩\n",
              "│ dense (<span style=\"color: #0087ff; text-decoration-color: #0087ff\">Dense</span>)                   │ (<span style=\"color: #00d7ff; text-decoration-color: #00d7ff\">None</span>, <span style=\"color: #00af00; text-decoration-color: #00af00\">256</span>)            │           <span style=\"color: #00af00; text-decoration-color: #00af00\">768</span> │\n",
              "├─────────────────────────────────┼────────────────────────┼───────────────┤\n",
              "│ dropout (<span style=\"color: #0087ff; text-decoration-color: #0087ff\">Dropout</span>)               │ (<span style=\"color: #00d7ff; text-decoration-color: #00d7ff\">None</span>, <span style=\"color: #00af00; text-decoration-color: #00af00\">256</span>)            │             <span style=\"color: #00af00; text-decoration-color: #00af00\">0</span> │\n",
              "├─────────────────────────────────┼────────────────────────┼───────────────┤\n",
              "│ dense_1 (<span style=\"color: #0087ff; text-decoration-color: #0087ff\">Dense</span>)                 │ (<span style=\"color: #00d7ff; text-decoration-color: #00d7ff\">None</span>, <span style=\"color: #00af00; text-decoration-color: #00af00\">256</span>)            │        <span style=\"color: #00af00; text-decoration-color: #00af00\">65,792</span> │\n",
              "├─────────────────────────────────┼────────────────────────┼───────────────┤\n",
              "│ dropout_1 (<span style=\"color: #0087ff; text-decoration-color: #0087ff\">Dropout</span>)             │ (<span style=\"color: #00d7ff; text-decoration-color: #00d7ff\">None</span>, <span style=\"color: #00af00; text-decoration-color: #00af00\">256</span>)            │             <span style=\"color: #00af00; text-decoration-color: #00af00\">0</span> │\n",
              "├─────────────────────────────────┼────────────────────────┼───────────────┤\n",
              "│ dense_2 (<span style=\"color: #0087ff; text-decoration-color: #0087ff\">Dense</span>)                 │ (<span style=\"color: #00d7ff; text-decoration-color: #00d7ff\">None</span>, <span style=\"color: #00af00; text-decoration-color: #00af00\">256</span>)            │        <span style=\"color: #00af00; text-decoration-color: #00af00\">65,792</span> │\n",
              "├─────────────────────────────────┼────────────────────────┼───────────────┤\n",
              "│ dropout_2 (<span style=\"color: #0087ff; text-decoration-color: #0087ff\">Dropout</span>)             │ (<span style=\"color: #00d7ff; text-decoration-color: #00d7ff\">None</span>, <span style=\"color: #00af00; text-decoration-color: #00af00\">256</span>)            │             <span style=\"color: #00af00; text-decoration-color: #00af00\">0</span> │\n",
              "├─────────────────────────────────┼────────────────────────┼───────────────┤\n",
              "│ dense_3 (<span style=\"color: #0087ff; text-decoration-color: #0087ff\">Dense</span>)                 │ (<span style=\"color: #00d7ff; text-decoration-color: #00d7ff\">None</span>, <span style=\"color: #00af00; text-decoration-color: #00af00\">256</span>)            │        <span style=\"color: #00af00; text-decoration-color: #00af00\">65,792</span> │\n",
              "├─────────────────────────────────┼────────────────────────┼───────────────┤\n",
              "│ dropout_3 (<span style=\"color: #0087ff; text-decoration-color: #0087ff\">Dropout</span>)             │ (<span style=\"color: #00d7ff; text-decoration-color: #00d7ff\">None</span>, <span style=\"color: #00af00; text-decoration-color: #00af00\">256</span>)            │             <span style=\"color: #00af00; text-decoration-color: #00af00\">0</span> │\n",
              "├─────────────────────────────────┼────────────────────────┼───────────────┤\n",
              "│ dense_4 (<span style=\"color: #0087ff; text-decoration-color: #0087ff\">Dense</span>)                 │ (<span style=\"color: #00d7ff; text-decoration-color: #00d7ff\">None</span>, <span style=\"color: #00af00; text-decoration-color: #00af00\">256</span>)            │        <span style=\"color: #00af00; text-decoration-color: #00af00\">65,792</span> │\n",
              "├─────────────────────────────────┼────────────────────────┼───────────────┤\n",
              "│ dropout_4 (<span style=\"color: #0087ff; text-decoration-color: #0087ff\">Dropout</span>)             │ (<span style=\"color: #00d7ff; text-decoration-color: #00d7ff\">None</span>, <span style=\"color: #00af00; text-decoration-color: #00af00\">256</span>)            │             <span style=\"color: #00af00; text-decoration-color: #00af00\">0</span> │\n",
              "├─────────────────────────────────┼────────────────────────┼───────────────┤\n",
              "│ dense_5 (<span style=\"color: #0087ff; text-decoration-color: #0087ff\">Dense</span>)                 │ (<span style=\"color: #00d7ff; text-decoration-color: #00d7ff\">None</span>, <span style=\"color: #00af00; text-decoration-color: #00af00\">1</span>)              │           <span style=\"color: #00af00; text-decoration-color: #00af00\">257</span> │\n",
              "└─────────────────────────────────┴────────────────────────┴───────────────┘\n",
              "</pre>\n"
            ],
            "text/plain": [
              "┏━━━━━━━━━━━━━━━━━━━━━━━━━━━━━━━━━┳━━━━━━━━━━━━━━━━━━━━━━━━┳━━━━━━━━━━━━━━━┓\n",
              "┃\u001b[1m \u001b[0m\u001b[1mLayer (type)                   \u001b[0m\u001b[1m \u001b[0m┃\u001b[1m \u001b[0m\u001b[1mOutput Shape          \u001b[0m\u001b[1m \u001b[0m┃\u001b[1m \u001b[0m\u001b[1m      Param #\u001b[0m\u001b[1m \u001b[0m┃\n",
              "┡━━━━━━━━━━━━━━━━━━━━━━━━━━━━━━━━━╇━━━━━━━━━━━━━━━━━━━━━━━━╇━━━━━━━━━━━━━━━┩\n",
              "│ dense (\u001b[38;5;33mDense\u001b[0m)                   │ (\u001b[38;5;45mNone\u001b[0m, \u001b[38;5;34m256\u001b[0m)            │           \u001b[38;5;34m768\u001b[0m │\n",
              "├─────────────────────────────────┼────────────────────────┼───────────────┤\n",
              "│ dropout (\u001b[38;5;33mDropout\u001b[0m)               │ (\u001b[38;5;45mNone\u001b[0m, \u001b[38;5;34m256\u001b[0m)            │             \u001b[38;5;34m0\u001b[0m │\n",
              "├─────────────────────────────────┼────────────────────────┼───────────────┤\n",
              "│ dense_1 (\u001b[38;5;33mDense\u001b[0m)                 │ (\u001b[38;5;45mNone\u001b[0m, \u001b[38;5;34m256\u001b[0m)            │        \u001b[38;5;34m65,792\u001b[0m │\n",
              "├─────────────────────────────────┼────────────────────────┼───────────────┤\n",
              "│ dropout_1 (\u001b[38;5;33mDropout\u001b[0m)             │ (\u001b[38;5;45mNone\u001b[0m, \u001b[38;5;34m256\u001b[0m)            │             \u001b[38;5;34m0\u001b[0m │\n",
              "├─────────────────────────────────┼────────────────────────┼───────────────┤\n",
              "│ dense_2 (\u001b[38;5;33mDense\u001b[0m)                 │ (\u001b[38;5;45mNone\u001b[0m, \u001b[38;5;34m256\u001b[0m)            │        \u001b[38;5;34m65,792\u001b[0m │\n",
              "├─────────────────────────────────┼────────────────────────┼───────────────┤\n",
              "│ dropout_2 (\u001b[38;5;33mDropout\u001b[0m)             │ (\u001b[38;5;45mNone\u001b[0m, \u001b[38;5;34m256\u001b[0m)            │             \u001b[38;5;34m0\u001b[0m │\n",
              "├─────────────────────────────────┼────────────────────────┼───────────────┤\n",
              "│ dense_3 (\u001b[38;5;33mDense\u001b[0m)                 │ (\u001b[38;5;45mNone\u001b[0m, \u001b[38;5;34m256\u001b[0m)            │        \u001b[38;5;34m65,792\u001b[0m │\n",
              "├─────────────────────────────────┼────────────────────────┼───────────────┤\n",
              "│ dropout_3 (\u001b[38;5;33mDropout\u001b[0m)             │ (\u001b[38;5;45mNone\u001b[0m, \u001b[38;5;34m256\u001b[0m)            │             \u001b[38;5;34m0\u001b[0m │\n",
              "├─────────────────────────────────┼────────────────────────┼───────────────┤\n",
              "│ dense_4 (\u001b[38;5;33mDense\u001b[0m)                 │ (\u001b[38;5;45mNone\u001b[0m, \u001b[38;5;34m256\u001b[0m)            │        \u001b[38;5;34m65,792\u001b[0m │\n",
              "├─────────────────────────────────┼────────────────────────┼───────────────┤\n",
              "│ dropout_4 (\u001b[38;5;33mDropout\u001b[0m)             │ (\u001b[38;5;45mNone\u001b[0m, \u001b[38;5;34m256\u001b[0m)            │             \u001b[38;5;34m0\u001b[0m │\n",
              "├─────────────────────────────────┼────────────────────────┼───────────────┤\n",
              "│ dense_5 (\u001b[38;5;33mDense\u001b[0m)                 │ (\u001b[38;5;45mNone\u001b[0m, \u001b[38;5;34m1\u001b[0m)              │           \u001b[38;5;34m257\u001b[0m │\n",
              "└─────────────────────────────────┴────────────────────────┴───────────────┘\n"
            ]
          },
          "metadata": {},
          "output_type": "display_data"
        },
        {
          "data": {
            "text/html": [
              "<pre style=\"white-space:pre;overflow-x:auto;line-height:normal;font-family:Menlo,'DejaVu Sans Mono',consolas,'Courier New',monospace\"><span style=\"font-weight: bold\"> Total params: </span><span style=\"color: #00af00; text-decoration-color: #00af00\">264,193</span> (1.01 MB)\n",
              "</pre>\n"
            ],
            "text/plain": [
              "\u001b[1m Total params: \u001b[0m\u001b[38;5;34m264,193\u001b[0m (1.01 MB)\n"
            ]
          },
          "metadata": {},
          "output_type": "display_data"
        },
        {
          "data": {
            "text/html": [
              "<pre style=\"white-space:pre;overflow-x:auto;line-height:normal;font-family:Menlo,'DejaVu Sans Mono',consolas,'Courier New',monospace\"><span style=\"font-weight: bold\"> Trainable params: </span><span style=\"color: #00af00; text-decoration-color: #00af00\">264,193</span> (1.01 MB)\n",
              "</pre>\n"
            ],
            "text/plain": [
              "\u001b[1m Trainable params: \u001b[0m\u001b[38;5;34m264,193\u001b[0m (1.01 MB)\n"
            ]
          },
          "metadata": {},
          "output_type": "display_data"
        },
        {
          "data": {
            "text/html": [
              "<pre style=\"white-space:pre;overflow-x:auto;line-height:normal;font-family:Menlo,'DejaVu Sans Mono',consolas,'Courier New',monospace\"><span style=\"font-weight: bold\"> Non-trainable params: </span><span style=\"color: #00af00; text-decoration-color: #00af00\">0</span> (0.00 B)\n",
              "</pre>\n"
            ],
            "text/plain": [
              "\u001b[1m Non-trainable params: \u001b[0m\u001b[38;5;34m0\u001b[0m (0.00 B)\n"
            ]
          },
          "metadata": {},
          "output_type": "display_data"
        }
      ],
      "source": [
        "def create_pinn_model(num_hidden_layers=5, num_neurons=256):\n",
        "    model = tf.keras.Sequential()\n",
        "\n",
        "    model.add(tf.keras.layers.InputLayer(input_shape=(2,)))\n",
        "\n",
        "    for _ in range(num_hidden_layers):\n",
        "        model.add(tf.keras.layers.Dense(num_neurons, activation=\"tanh\")) # tanh OR swish OR silu\n",
        "        model.add(tf.keras.layers.Dropout(0.3))\n",
        "\n",
        "    model.add(tf.keras.layers.Dense(1, activation=\"linear\"))\n",
        "\n",
        "    return model\n",
        "\n",
        "\n",
        "pinn_model = create_pinn_model()\n",
        "pinn_model.summary()"
      ]
    },
    {
      "cell_type": "markdown",
      "metadata": {
        "id": "PNHfEXAqFKoL"
      },
      "source": [
        "### Função de Perda Híbrida\n",
        "\n",
        "A função de perda total é a soma da perda nos dados e da perda na física. Aqui, implementamos o cálculo do resíduo da EDP."
      ]
    },
    {
      "cell_type": "code",
      "execution_count": 8,
      "metadata": {
        "id": "VKXvixs6FKoM"
      },
      "outputs": [],
      "source": [
        "def physics_loss(model, t, x):\n",
        "    with tf.GradientTape(persistent=True) as tape:\n",
        "        tape.watch(x)\n",
        "        tape.watch(t)\n",
        "\n",
        "        X_concat = tf.concat([t, x], axis=1)\n",
        "        T_pred = model(X_concat)\n",
        "\n",
        "        dT_dx = tape.gradient(T_pred, x)\n",
        "        dT_dt = tape.gradient(T_pred, t)\n",
        "        d2T_dx2 = tape.gradient(dT_dx, x)\n",
        "\n",
        "    del tape\n",
        "\n",
        "    # Resíduo da EDP\n",
        "    residual = dT_dt - ALPHA * d2T_dx2\n",
        "\n",
        "    return tf.reduce_mean(tf.square(residual))\n",
        "\n",
        "\n",
        "def data_loss(model, X_data, T_data):\n",
        "    T_pred = model(X_data)\n",
        "    return tf.reduce_mean(tf.square(T_pred - T_data))"
      ]
    },
    {
      "cell_type": "markdown",
      "metadata": {
        "id": "WrMcZU1kFKoN"
      },
      "source": [
        "### Loop de Treinamento Customizado\n",
        "\n",
        "Usamos um loop customizado para calcular as perdas e aplicar os gradientes a cada época."
      ]
    },
    {
      "cell_type": "code",
      "execution_count": 9,
      "metadata": {
        "colab": {
          "base_uri": "https://localhost:8080/"
        },
        "id": "mRm-DOy0FKoO",
        "outputId": "326a1d00-9cbb-428f-cec3-18089ac40985"
      },
      "outputs": [
        {
          "name": "stdout",
          "output_type": "stream",
          "text": [
            "Iniciando Fase 1: Treinamento com Adam...\n",
            "WARNING:tensorflow:Calling GradientTape.gradient on a persistent tape inside its context is significantly less efficient than calling it outside the context (it causes the gradient ops to be recorded on the tape, leading to increased CPU and memory usage). Only call GradientTape.gradient inside the context if you actually want to trace the gradient in order to compute higher order derivatives.\n"
          ]
        },
        {
          "ename": "KeyboardInterrupt",
          "evalue": "",
          "output_type": "error",
          "traceback": [
            "\u001b[0;31m---------------------------------------------------------------------------\u001b[0m",
            "\u001b[0;31mKeyboardInterrupt\u001b[0m                         Traceback (most recent call last)",
            "Cell \u001b[0;32mIn[9], line 26\u001b[0m\n\u001b[1;32m     23\u001b[0m break_time \u001b[38;5;241m=\u001b[39m time\u001b[38;5;241m.\u001b[39mtime()\n\u001b[1;32m     25\u001b[0m \u001b[38;5;28;01mfor\u001b[39;00m epoch \u001b[38;5;129;01min\u001b[39;00m \u001b[38;5;28mrange\u001b[39m(EPOCHS_ADAM):\n\u001b[0;32m---> 26\u001b[0m     loss_d, loss_p, total_loss \u001b[38;5;241m=\u001b[39m \u001b[43mtrain_step\u001b[49m\u001b[43m(\u001b[49m\n\u001b[1;32m     27\u001b[0m \u001b[43m        \u001b[49m\u001b[43mpinn_model\u001b[49m\u001b[43m,\u001b[49m\u001b[43m \u001b[49m\u001b[43mX_train_tf\u001b[49m\u001b[43m,\u001b[49m\u001b[43m \u001b[49m\u001b[43mT_train_tf\u001b[49m\u001b[43m,\u001b[49m\u001b[43m \u001b[49m\u001b[43mX_collocation_tf\u001b[49m\n\u001b[1;32m     28\u001b[0m \u001b[43m    \u001b[49m\u001b[43m)\u001b[49m\n\u001b[1;32m     29\u001b[0m     \u001b[38;5;28;01mif\u001b[39;00m (epoch \u001b[38;5;241m+\u001b[39m \u001b[38;5;241m1\u001b[39m) \u001b[38;5;241m%\u001b[39m \u001b[38;5;241m500\u001b[39m \u001b[38;5;241m==\u001b[39m \u001b[38;5;241m0\u001b[39m:\n\u001b[1;32m     30\u001b[0m         \u001b[38;5;28mprint\u001b[39m(\n\u001b[1;32m     31\u001b[0m             \u001b[38;5;124mf\u001b[39m\u001b[38;5;124m\"\u001b[39m\u001b[38;5;124mEpoch \u001b[39m\u001b[38;5;132;01m{\u001b[39;00mepoch\u001b[38;5;241m+\u001b[39m\u001b[38;5;241m1\u001b[39m\u001b[38;5;132;01m:\u001b[39;00m\u001b[38;5;124m5d\u001b[39m\u001b[38;5;132;01m}\u001b[39;00m\u001b[38;5;124m, Time: \u001b[39m\u001b[38;5;132;01m{\u001b[39;00mtime\u001b[38;5;241m.\u001b[39mtime()\u001b[38;5;250m \u001b[39m\u001b[38;5;241m-\u001b[39m\u001b[38;5;250m \u001b[39mbreak_time\u001b[38;5;132;01m}\u001b[39;00m\u001b[38;5;124m s, Loss_Data: \u001b[39m\u001b[38;5;132;01m{\u001b[39;00mloss_d\u001b[38;5;132;01m:\u001b[39;00m\u001b[38;5;124m.4e\u001b[39m\u001b[38;5;132;01m}\u001b[39;00m\u001b[38;5;124m, Loss_Physics: \u001b[39m\u001b[38;5;132;01m{\u001b[39;00mloss_p\u001b[38;5;132;01m:\u001b[39;00m\u001b[38;5;124m.4e\u001b[39m\u001b[38;5;132;01m}\u001b[39;00m\u001b[38;5;124m, Loss_Total: \u001b[39m\u001b[38;5;132;01m{\u001b[39;00mtotal_loss\u001b[38;5;132;01m:\u001b[39;00m\u001b[38;5;124m.4e\u001b[39m\u001b[38;5;132;01m}\u001b[39;00m\u001b[38;5;124m\"\u001b[39m\n\u001b[1;32m     32\u001b[0m         )\n",
            "File \u001b[0;32m~/GitHub/master-sciml/env/lib/python3.10/site-packages/tensorflow/python/util/traceback_utils.py:150\u001b[0m, in \u001b[0;36mfilter_traceback.<locals>.error_handler\u001b[0;34m(*args, **kwargs)\u001b[0m\n\u001b[1;32m    148\u001b[0m filtered_tb \u001b[38;5;241m=\u001b[39m \u001b[38;5;28;01mNone\u001b[39;00m\n\u001b[1;32m    149\u001b[0m \u001b[38;5;28;01mtry\u001b[39;00m:\n\u001b[0;32m--> 150\u001b[0m   \u001b[38;5;28;01mreturn\u001b[39;00m \u001b[43mfn\u001b[49m\u001b[43m(\u001b[49m\u001b[38;5;241;43m*\u001b[39;49m\u001b[43margs\u001b[49m\u001b[43m,\u001b[49m\u001b[43m \u001b[49m\u001b[38;5;241;43m*\u001b[39;49m\u001b[38;5;241;43m*\u001b[39;49m\u001b[43mkwargs\u001b[49m\u001b[43m)\u001b[49m\n\u001b[1;32m    151\u001b[0m \u001b[38;5;28;01mexcept\u001b[39;00m \u001b[38;5;167;01mException\u001b[39;00m \u001b[38;5;28;01mas\u001b[39;00m e:\n\u001b[1;32m    152\u001b[0m   filtered_tb \u001b[38;5;241m=\u001b[39m _process_traceback_frames(e\u001b[38;5;241m.\u001b[39m__traceback__)\n",
            "File \u001b[0;32m~/GitHub/master-sciml/env/lib/python3.10/site-packages/tensorflow/python/eager/polymorphic_function/polymorphic_function.py:833\u001b[0m, in \u001b[0;36mFunction.__call__\u001b[0;34m(self, *args, **kwds)\u001b[0m\n\u001b[1;32m    830\u001b[0m compiler \u001b[38;5;241m=\u001b[39m \u001b[38;5;124m\"\u001b[39m\u001b[38;5;124mxla\u001b[39m\u001b[38;5;124m\"\u001b[39m \u001b[38;5;28;01mif\u001b[39;00m \u001b[38;5;28mself\u001b[39m\u001b[38;5;241m.\u001b[39m_jit_compile \u001b[38;5;28;01melse\u001b[39;00m \u001b[38;5;124m\"\u001b[39m\u001b[38;5;124mnonXla\u001b[39m\u001b[38;5;124m\"\u001b[39m\n\u001b[1;32m    832\u001b[0m \u001b[38;5;28;01mwith\u001b[39;00m OptionalXlaContext(\u001b[38;5;28mself\u001b[39m\u001b[38;5;241m.\u001b[39m_jit_compile):\n\u001b[0;32m--> 833\u001b[0m   result \u001b[38;5;241m=\u001b[39m \u001b[38;5;28;43mself\u001b[39;49m\u001b[38;5;241;43m.\u001b[39;49m\u001b[43m_call\u001b[49m\u001b[43m(\u001b[49m\u001b[38;5;241;43m*\u001b[39;49m\u001b[43margs\u001b[49m\u001b[43m,\u001b[49m\u001b[43m \u001b[49m\u001b[38;5;241;43m*\u001b[39;49m\u001b[38;5;241;43m*\u001b[39;49m\u001b[43mkwds\u001b[49m\u001b[43m)\u001b[49m\n\u001b[1;32m    835\u001b[0m new_tracing_count \u001b[38;5;241m=\u001b[39m \u001b[38;5;28mself\u001b[39m\u001b[38;5;241m.\u001b[39mexperimental_get_tracing_count()\n\u001b[1;32m    836\u001b[0m without_tracing \u001b[38;5;241m=\u001b[39m (tracing_count \u001b[38;5;241m==\u001b[39m new_tracing_count)\n",
            "File \u001b[0;32m~/GitHub/master-sciml/env/lib/python3.10/site-packages/tensorflow/python/eager/polymorphic_function/polymorphic_function.py:869\u001b[0m, in \u001b[0;36mFunction._call\u001b[0;34m(self, *args, **kwds)\u001b[0m\n\u001b[1;32m    866\u001b[0m   \u001b[38;5;28mself\u001b[39m\u001b[38;5;241m.\u001b[39m_lock\u001b[38;5;241m.\u001b[39mrelease()\n\u001b[1;32m    867\u001b[0m   \u001b[38;5;66;03m# In this case we have created variables on the first call, so we run the\u001b[39;00m\n\u001b[1;32m    868\u001b[0m   \u001b[38;5;66;03m# defunned version which is guaranteed to never create variables.\u001b[39;00m\n\u001b[0;32m--> 869\u001b[0m   \u001b[38;5;28;01mreturn\u001b[39;00m \u001b[43mtracing_compilation\u001b[49m\u001b[38;5;241;43m.\u001b[39;49m\u001b[43mcall_function\u001b[49m\u001b[43m(\u001b[49m\n\u001b[1;32m    870\u001b[0m \u001b[43m      \u001b[49m\u001b[43margs\u001b[49m\u001b[43m,\u001b[49m\u001b[43m \u001b[49m\u001b[43mkwds\u001b[49m\u001b[43m,\u001b[49m\u001b[43m \u001b[49m\u001b[38;5;28;43mself\u001b[39;49m\u001b[38;5;241;43m.\u001b[39;49m\u001b[43m_no_variable_creation_config\u001b[49m\n\u001b[1;32m    871\u001b[0m \u001b[43m  \u001b[49m\u001b[43m)\u001b[49m\n\u001b[1;32m    872\u001b[0m \u001b[38;5;28;01melif\u001b[39;00m \u001b[38;5;28mself\u001b[39m\u001b[38;5;241m.\u001b[39m_variable_creation_config \u001b[38;5;129;01mis\u001b[39;00m \u001b[38;5;129;01mnot\u001b[39;00m \u001b[38;5;28;01mNone\u001b[39;00m:\n\u001b[1;32m    873\u001b[0m   \u001b[38;5;66;03m# Release the lock early so that multiple threads can perform the call\u001b[39;00m\n\u001b[1;32m    874\u001b[0m   \u001b[38;5;66;03m# in parallel.\u001b[39;00m\n\u001b[1;32m    875\u001b[0m   \u001b[38;5;28mself\u001b[39m\u001b[38;5;241m.\u001b[39m_lock\u001b[38;5;241m.\u001b[39mrelease()\n",
            "File \u001b[0;32m~/GitHub/master-sciml/env/lib/python3.10/site-packages/tensorflow/python/eager/polymorphic_function/tracing_compilation.py:139\u001b[0m, in \u001b[0;36mcall_function\u001b[0;34m(args, kwargs, tracing_options)\u001b[0m\n\u001b[1;32m    137\u001b[0m bound_args \u001b[38;5;241m=\u001b[39m function\u001b[38;5;241m.\u001b[39mfunction_type\u001b[38;5;241m.\u001b[39mbind(\u001b[38;5;241m*\u001b[39margs, \u001b[38;5;241m*\u001b[39m\u001b[38;5;241m*\u001b[39mkwargs)\n\u001b[1;32m    138\u001b[0m flat_inputs \u001b[38;5;241m=\u001b[39m function\u001b[38;5;241m.\u001b[39mfunction_type\u001b[38;5;241m.\u001b[39munpack_inputs(bound_args)\n\u001b[0;32m--> 139\u001b[0m \u001b[38;5;28;01mreturn\u001b[39;00m \u001b[43mfunction\u001b[49m\u001b[38;5;241;43m.\u001b[39;49m\u001b[43m_call_flat\u001b[49m\u001b[43m(\u001b[49m\u001b[43m  \u001b[49m\u001b[38;5;66;43;03m# pylint: disable=protected-access\u001b[39;49;00m\n\u001b[1;32m    140\u001b[0m \u001b[43m    \u001b[49m\u001b[43mflat_inputs\u001b[49m\u001b[43m,\u001b[49m\u001b[43m \u001b[49m\u001b[43mcaptured_inputs\u001b[49m\u001b[38;5;241;43m=\u001b[39;49m\u001b[43mfunction\u001b[49m\u001b[38;5;241;43m.\u001b[39;49m\u001b[43mcaptured_inputs\u001b[49m\n\u001b[1;32m    141\u001b[0m \u001b[43m\u001b[49m\u001b[43m)\u001b[49m\n",
            "File \u001b[0;32m~/GitHub/master-sciml/env/lib/python3.10/site-packages/tensorflow/python/eager/polymorphic_function/concrete_function.py:1322\u001b[0m, in \u001b[0;36mConcreteFunction._call_flat\u001b[0;34m(self, tensor_inputs, captured_inputs)\u001b[0m\n\u001b[1;32m   1318\u001b[0m possible_gradient_type \u001b[38;5;241m=\u001b[39m gradients_util\u001b[38;5;241m.\u001b[39mPossibleTapeGradientTypes(args)\n\u001b[1;32m   1319\u001b[0m \u001b[38;5;28;01mif\u001b[39;00m (possible_gradient_type \u001b[38;5;241m==\u001b[39m gradients_util\u001b[38;5;241m.\u001b[39mPOSSIBLE_GRADIENT_TYPES_NONE\n\u001b[1;32m   1320\u001b[0m     \u001b[38;5;129;01mand\u001b[39;00m executing_eagerly):\n\u001b[1;32m   1321\u001b[0m   \u001b[38;5;66;03m# No tape is watching; skip to running the function.\u001b[39;00m\n\u001b[0;32m-> 1322\u001b[0m   \u001b[38;5;28;01mreturn\u001b[39;00m \u001b[38;5;28;43mself\u001b[39;49m\u001b[38;5;241;43m.\u001b[39;49m\u001b[43m_inference_function\u001b[49m\u001b[38;5;241;43m.\u001b[39;49m\u001b[43mcall_preflattened\u001b[49m\u001b[43m(\u001b[49m\u001b[43margs\u001b[49m\u001b[43m)\u001b[49m\n\u001b[1;32m   1323\u001b[0m forward_backward \u001b[38;5;241m=\u001b[39m \u001b[38;5;28mself\u001b[39m\u001b[38;5;241m.\u001b[39m_select_forward_and_backward_functions(\n\u001b[1;32m   1324\u001b[0m     args,\n\u001b[1;32m   1325\u001b[0m     possible_gradient_type,\n\u001b[1;32m   1326\u001b[0m     executing_eagerly)\n\u001b[1;32m   1327\u001b[0m forward_function, args_with_tangents \u001b[38;5;241m=\u001b[39m forward_backward\u001b[38;5;241m.\u001b[39mforward()\n",
            "File \u001b[0;32m~/GitHub/master-sciml/env/lib/python3.10/site-packages/tensorflow/python/eager/polymorphic_function/atomic_function.py:216\u001b[0m, in \u001b[0;36mAtomicFunction.call_preflattened\u001b[0;34m(self, args)\u001b[0m\n\u001b[1;32m    214\u001b[0m \u001b[38;5;28;01mdef\u001b[39;00m\u001b[38;5;250m \u001b[39m\u001b[38;5;21mcall_preflattened\u001b[39m(\u001b[38;5;28mself\u001b[39m, args: Sequence[core\u001b[38;5;241m.\u001b[39mTensor]) \u001b[38;5;241m-\u001b[39m\u001b[38;5;241m>\u001b[39m Any:\n\u001b[1;32m    215\u001b[0m \u001b[38;5;250m  \u001b[39m\u001b[38;5;124;03m\"\"\"Calls with flattened tensor inputs and returns the structured output.\"\"\"\u001b[39;00m\n\u001b[0;32m--> 216\u001b[0m   flat_outputs \u001b[38;5;241m=\u001b[39m \u001b[38;5;28;43mself\u001b[39;49m\u001b[38;5;241;43m.\u001b[39;49m\u001b[43mcall_flat\u001b[49m\u001b[43m(\u001b[49m\u001b[38;5;241;43m*\u001b[39;49m\u001b[43margs\u001b[49m\u001b[43m)\u001b[49m\n\u001b[1;32m    217\u001b[0m   \u001b[38;5;28;01mreturn\u001b[39;00m \u001b[38;5;28mself\u001b[39m\u001b[38;5;241m.\u001b[39mfunction_type\u001b[38;5;241m.\u001b[39mpack_output(flat_outputs)\n",
            "File \u001b[0;32m~/GitHub/master-sciml/env/lib/python3.10/site-packages/tensorflow/python/eager/polymorphic_function/atomic_function.py:251\u001b[0m, in \u001b[0;36mAtomicFunction.call_flat\u001b[0;34m(self, *args)\u001b[0m\n\u001b[1;32m    249\u001b[0m \u001b[38;5;28;01mwith\u001b[39;00m record\u001b[38;5;241m.\u001b[39mstop_recording():\n\u001b[1;32m    250\u001b[0m   \u001b[38;5;28;01mif\u001b[39;00m \u001b[38;5;28mself\u001b[39m\u001b[38;5;241m.\u001b[39m_bound_context\u001b[38;5;241m.\u001b[39mexecuting_eagerly():\n\u001b[0;32m--> 251\u001b[0m     outputs \u001b[38;5;241m=\u001b[39m \u001b[38;5;28;43mself\u001b[39;49m\u001b[38;5;241;43m.\u001b[39;49m\u001b[43m_bound_context\u001b[49m\u001b[38;5;241;43m.\u001b[39;49m\u001b[43mcall_function\u001b[49m\u001b[43m(\u001b[49m\n\u001b[1;32m    252\u001b[0m \u001b[43m        \u001b[49m\u001b[38;5;28;43mself\u001b[39;49m\u001b[38;5;241;43m.\u001b[39;49m\u001b[43mname\u001b[49m\u001b[43m,\u001b[49m\n\u001b[1;32m    253\u001b[0m \u001b[43m        \u001b[49m\u001b[38;5;28;43mlist\u001b[39;49m\u001b[43m(\u001b[49m\u001b[43margs\u001b[49m\u001b[43m)\u001b[49m\u001b[43m,\u001b[49m\n\u001b[1;32m    254\u001b[0m \u001b[43m        \u001b[49m\u001b[38;5;28;43mlen\u001b[39;49m\u001b[43m(\u001b[49m\u001b[38;5;28;43mself\u001b[39;49m\u001b[38;5;241;43m.\u001b[39;49m\u001b[43mfunction_type\u001b[49m\u001b[38;5;241;43m.\u001b[39;49m\u001b[43mflat_outputs\u001b[49m\u001b[43m)\u001b[49m\u001b[43m,\u001b[49m\n\u001b[1;32m    255\u001b[0m \u001b[43m    \u001b[49m\u001b[43m)\u001b[49m\n\u001b[1;32m    256\u001b[0m   \u001b[38;5;28;01melse\u001b[39;00m:\n\u001b[1;32m    257\u001b[0m     outputs \u001b[38;5;241m=\u001b[39m make_call_op_in_graph(\n\u001b[1;32m    258\u001b[0m         \u001b[38;5;28mself\u001b[39m,\n\u001b[1;32m    259\u001b[0m         \u001b[38;5;28mlist\u001b[39m(args),\n\u001b[1;32m    260\u001b[0m         \u001b[38;5;28mself\u001b[39m\u001b[38;5;241m.\u001b[39m_bound_context\u001b[38;5;241m.\u001b[39mfunction_call_options\u001b[38;5;241m.\u001b[39mas_attrs(),\n\u001b[1;32m    261\u001b[0m     )\n",
            "File \u001b[0;32m~/GitHub/master-sciml/env/lib/python3.10/site-packages/tensorflow/python/eager/context.py:1688\u001b[0m, in \u001b[0;36mContext.call_function\u001b[0;34m(self, name, tensor_inputs, num_outputs)\u001b[0m\n\u001b[1;32m   1686\u001b[0m cancellation_context \u001b[38;5;241m=\u001b[39m cancellation\u001b[38;5;241m.\u001b[39mcontext()\n\u001b[1;32m   1687\u001b[0m \u001b[38;5;28;01mif\u001b[39;00m cancellation_context \u001b[38;5;129;01mis\u001b[39;00m \u001b[38;5;28;01mNone\u001b[39;00m:\n\u001b[0;32m-> 1688\u001b[0m   outputs \u001b[38;5;241m=\u001b[39m \u001b[43mexecute\u001b[49m\u001b[38;5;241;43m.\u001b[39;49m\u001b[43mexecute\u001b[49m\u001b[43m(\u001b[49m\n\u001b[1;32m   1689\u001b[0m \u001b[43m      \u001b[49m\u001b[43mname\u001b[49m\u001b[38;5;241;43m.\u001b[39;49m\u001b[43mdecode\u001b[49m\u001b[43m(\u001b[49m\u001b[38;5;124;43m\"\u001b[39;49m\u001b[38;5;124;43mutf-8\u001b[39;49m\u001b[38;5;124;43m\"\u001b[39;49m\u001b[43m)\u001b[49m\u001b[43m,\u001b[49m\n\u001b[1;32m   1690\u001b[0m \u001b[43m      \u001b[49m\u001b[43mnum_outputs\u001b[49m\u001b[38;5;241;43m=\u001b[39;49m\u001b[43mnum_outputs\u001b[49m\u001b[43m,\u001b[49m\n\u001b[1;32m   1691\u001b[0m \u001b[43m      \u001b[49m\u001b[43minputs\u001b[49m\u001b[38;5;241;43m=\u001b[39;49m\u001b[43mtensor_inputs\u001b[49m\u001b[43m,\u001b[49m\n\u001b[1;32m   1692\u001b[0m \u001b[43m      \u001b[49m\u001b[43mattrs\u001b[49m\u001b[38;5;241;43m=\u001b[39;49m\u001b[43mattrs\u001b[49m\u001b[43m,\u001b[49m\n\u001b[1;32m   1693\u001b[0m \u001b[43m      \u001b[49m\u001b[43mctx\u001b[49m\u001b[38;5;241;43m=\u001b[39;49m\u001b[38;5;28;43mself\u001b[39;49m\u001b[43m,\u001b[49m\n\u001b[1;32m   1694\u001b[0m \u001b[43m  \u001b[49m\u001b[43m)\u001b[49m\n\u001b[1;32m   1695\u001b[0m \u001b[38;5;28;01melse\u001b[39;00m:\n\u001b[1;32m   1696\u001b[0m   outputs \u001b[38;5;241m=\u001b[39m execute\u001b[38;5;241m.\u001b[39mexecute_with_cancellation(\n\u001b[1;32m   1697\u001b[0m       name\u001b[38;5;241m.\u001b[39mdecode(\u001b[38;5;124m\"\u001b[39m\u001b[38;5;124mutf-8\u001b[39m\u001b[38;5;124m\"\u001b[39m),\n\u001b[1;32m   1698\u001b[0m       num_outputs\u001b[38;5;241m=\u001b[39mnum_outputs,\n\u001b[0;32m   (...)\u001b[0m\n\u001b[1;32m   1702\u001b[0m       cancellation_manager\u001b[38;5;241m=\u001b[39mcancellation_context,\n\u001b[1;32m   1703\u001b[0m   )\n",
            "File \u001b[0;32m~/GitHub/master-sciml/env/lib/python3.10/site-packages/tensorflow/python/eager/execute.py:53\u001b[0m, in \u001b[0;36mquick_execute\u001b[0;34m(op_name, num_outputs, inputs, attrs, ctx, name)\u001b[0m\n\u001b[1;32m     51\u001b[0m \u001b[38;5;28;01mtry\u001b[39;00m:\n\u001b[1;32m     52\u001b[0m   ctx\u001b[38;5;241m.\u001b[39mensure_initialized()\n\u001b[0;32m---> 53\u001b[0m   tensors \u001b[38;5;241m=\u001b[39m \u001b[43mpywrap_tfe\u001b[49m\u001b[38;5;241;43m.\u001b[39;49m\u001b[43mTFE_Py_Execute\u001b[49m\u001b[43m(\u001b[49m\u001b[43mctx\u001b[49m\u001b[38;5;241;43m.\u001b[39;49m\u001b[43m_handle\u001b[49m\u001b[43m,\u001b[49m\u001b[43m \u001b[49m\u001b[43mdevice_name\u001b[49m\u001b[43m,\u001b[49m\u001b[43m \u001b[49m\u001b[43mop_name\u001b[49m\u001b[43m,\u001b[49m\n\u001b[1;32m     54\u001b[0m \u001b[43m                                      \u001b[49m\u001b[43minputs\u001b[49m\u001b[43m,\u001b[49m\u001b[43m \u001b[49m\u001b[43mattrs\u001b[49m\u001b[43m,\u001b[49m\u001b[43m \u001b[49m\u001b[43mnum_outputs\u001b[49m\u001b[43m)\u001b[49m\n\u001b[1;32m     55\u001b[0m \u001b[38;5;28;01mexcept\u001b[39;00m core\u001b[38;5;241m.\u001b[39m_NotOkStatusException \u001b[38;5;28;01mas\u001b[39;00m e:\n\u001b[1;32m     56\u001b[0m   \u001b[38;5;28;01mif\u001b[39;00m name \u001b[38;5;129;01mis\u001b[39;00m \u001b[38;5;129;01mnot\u001b[39;00m \u001b[38;5;28;01mNone\u001b[39;00m:\n",
            "\u001b[0;31mKeyboardInterrupt\u001b[0m: "
          ]
        }
      ],
      "source": [
        "optimizer = tf.keras.optimizers.Adam(learning_rate=1e-4)\n",
        "\n",
        "W_DATA = 1.0\n",
        "W_PHYSICS = 1.0\n",
        "\n",
        "\n",
        "@tf.function\n",
        "def train_step(model, X_data, T_data, X_collocation):\n",
        "    with tf.GradientTape() as tape:\n",
        "        loss_d = data_loss(model, X_data, T_data)\n",
        "        loss_p = physics_loss(model, X_collocation[:, 0:1], X_collocation[:, 1:2])\n",
        "        total_loss = W_DATA * loss_d + W_PHYSICS * loss_p\n",
        "\n",
        "    gradients = tape.gradient(total_loss, model.trainable_variables)\n",
        "    optimizer.apply_gradients(zip(gradients, model.trainable_variables))\n",
        "    return loss_d, loss_p, total_loss\n",
        "\n",
        "\n",
        "print(\"Iniciando Fase 1: Treinamento com Adam...\")\n",
        "\n",
        "EPOCHS_ADAM = 10000\n",
        "start_time = time.time()\n",
        "break_time = time.time()\n",
        "\n",
        "for epoch in range(EPOCHS_ADAM):\n",
        "    loss_d, loss_p, total_loss = train_step(\n",
        "        pinn_model, X_train_tf, T_train_tf, X_collocation_tf\n",
        "    )\n",
        "    if (epoch + 1) % 500 == 0:\n",
        "        print(\n",
        "            f\"Epoch {epoch+1:5d}, Time: {time.time() - break_time} s, Loss_Data: {loss_d:.4e}, Loss_Physics: {loss_p:.4e}, Loss_Total: {total_loss:.4e}\"\n",
        "        )\n",
        "        break_time = time.time()\n",
        "adam_time = time.time() - start_time\n",
        "\n",
        "print(f\"Fase 1 (Adam) concluída em {adam_time:.2f} segundos.\")\n",
        "print(\"\\nIniciando Fase 2: Refinamento com L-BFGS...\")\n",
        "\n",
        "\n",
        "# Função auxiliar para definir os pesos a partir de um vetor 1D\n",
        "def set_weights(model, weights_1d):\n",
        "    \"\"\"\n",
        "    Desachata um vetor 1D de pesos e os atribui às variáveis do modelo.\n",
        "    Esta função corrige a lógica de unflattening.\n",
        "    \"\"\"\n",
        "    shapes = [v.shape for v in model.trainable_variables]\n",
        "    sizes = [tf.reduce_prod(s) for s in shapes]\n",
        "\n",
        "    start = 0\n",
        "    for i, (shape, size) in enumerate(zip(shapes, sizes)):\n",
        "        end = start + size\n",
        "        # Pega a fatia do vetor 1D e remodela para a forma original da camada\n",
        "        w = tf.reshape(weights_1d[start:end], shape)\n",
        "        model.trainable_variables[i].assign(w)\n",
        "        start = end\n",
        "\n",
        "\n",
        "# Função de perda e gradientes que será passada para o otimizador L-BFGS\n",
        "@tf.function\n",
        "def loss_and_grads_func(weights_1d):\n",
        "    \"\"\"\n",
        "    Calcula a perda e os gradientes para um dado vetor 1D de pesos.\n",
        "    \"\"\"\n",
        "    # L-BFGS trabalha com float64, mas o modelo usa float32. Fazemos o cast temporário.\n",
        "    set_weights(pinn_model, tf.cast(weights_1d, dtype=tf.float32))\n",
        "\n",
        "    # Calcula a perda com os novos pesos\n",
        "    with tf.GradientTape() as tape:\n",
        "        loss_d = data_loss(pinn_model, X_train_tf, T_train_tf)\n",
        "        loss_p = physics_loss(\n",
        "            pinn_model, X_collocation_tf[:, 0:1], X_collocation_tf[:, 1:2]\n",
        "        )\n",
        "        total_loss = loss_d + loss_p\n",
        "\n",
        "    # Calcula os gradientes (eles serão float32)\n",
        "    grads = tape.gradient(total_loss, pinn_model.trainable_variables)\n",
        "\n",
        "    # Achata a lista de gradientes em um único vetor 1D\n",
        "    grads_1d = tf.concat([tf.reshape(g, [-1]) for g in grads], axis=0)\n",
        "\n",
        "    # Para estabilidade numérica, retorna a perda e os gradientes como float64\n",
        "    return tf.cast(total_loss, tf.float64), tf.cast(grads_1d, tf.float64)\n",
        "\n",
        "\n",
        "# Execução da otimização L-BFGS\n",
        "\n",
        "# Pega os pesos atuais do modelo (após Adam) e os achata em um vetor 1D\n",
        "initial_weights = tf.concat(\n",
        "    [tf.reshape(v, [-1]) for v in pinn_model.trainable_variables], axis=0\n",
        ")\n",
        "\n",
        "start_time = time.time()\n",
        "# Chama o otimizador L-BFGS\n",
        "# Nota: O L-BFGS não imprime o progresso por padrão. O cálculo da perda é feito dentro da função.\n",
        "results = tfp.optimizer.lbfgs_minimize(\n",
        "    value_and_gradients_function=loss_and_grads_func,\n",
        "    initial_position=tf.cast(\n",
        "        initial_weights, tf.float64\n",
        "    ),  # Importante: passar pesos como float64\n",
        "    num_correction_pairs=100,\n",
        "    max_iterations=20000,\n",
        "    tolerance=1e-10,\n",
        ")\n",
        "lbfgs_time = time.time() - start_time\n",
        "print(f\"Fase 2 (L-BFGS) concluída em {lbfgs_time:.2f} segundos.\")\n",
        "\n",
        "\n",
        "# Atribuição final dos pesos otimizados\n",
        "# `results.position` contém o vetor 1D de pesos otimizados (em float64)\n",
        "optimized_weights_1d = results.position\n",
        "set_weights(pinn_model, tf.cast(optimized_weights_1d, dtype=tf.float32))\n",
        "\n",
        "# Imprime a perda final após L-BFGS\n",
        "final_loss_d = data_loss(pinn_model, X_train_tf, T_train_tf)\n",
        "final_loss_p = physics_loss(\n",
        "    pinn_model, X_collocation_tf[:, 0:1], X_collocation_tf[:, 1:2]\n",
        ")\n",
        "final_total_loss = final_loss_d + final_loss_p\n",
        "\n",
        "print(\"\\nTreinamento concluído.\")\n",
        "print(\n",
        "    f\"Perda Final (após L-BFGS): Loss_Data: {final_loss_d:.4e}, Loss_Physics: {final_loss_p:.4e}, Loss_Total: {final_total_loss:.4e}\"\n",
        ")"
      ]
    },
    {
      "cell_type": "markdown",
      "metadata": {
        "id": "Mm90OVS6FKoQ"
      },
      "source": [
        "### Métricas de Avaliação\n",
        "\n",
        "Agora, usamos o modelo treinado para prever a temperatura em todo o domínio e comparamos com os dados de treinamento originais."
      ]
    },
    {
      "cell_type": "code",
      "execution_count": null,
      "metadata": {
        "id": "sGmyTWVoFKoR"
      },
      "outputs": [],
      "source": [
        "# Fazer previsões nos mesmos pontos do DataFrame de treinamento\n",
        "T_pred = pinn_model.predict(X)\n",
        "\n",
        "# Calcular as métricas de erro\n",
        "mse = mean_squared_error(T, T_pred)\n",
        "mae = mean_absolute_error(T, T_pred)\n",
        "r2 = r2_score(T, T_pred)\n",
        "\n",
        "print(f\"Erro Quadrático Médio (MSE): {mse:.6f}\")\n",
        "print(f\"Erro Absoluto Médio (MAE):  {mae:.6f}\")\n",
        "print(f\"R2 Score:  {r2:.6f}\")"
      ]
    },
    {
      "cell_type": "markdown",
      "metadata": {
        "id": "rQqnXjiuFKoR"
      },
      "source": [
        "### Visualização dos Resultados"
      ]
    },
    {
      "cell_type": "code",
      "execution_count": null,
      "metadata": {
        "id": "K4SbdseXFKoS"
      },
      "outputs": [],
      "source": [
        "# Perfis de Temperatura ao Longo do Tempo\n",
        "\n",
        "t = np.unique(X[:, 0])\n",
        "x = np.unique(X[:, 1])\n",
        "\n",
        "Nt = len(t)\n",
        "Nx = len(x)\n",
        "\n",
        "U_sol = T.reshape([Nt, Nx])\n",
        "U_pred = T_pred.reshape([Nt, Nx])\n",
        "Err = U_sol - U_pred\n",
        "\n",
        "fig, ax = plt.subplots(figsize=(8, 3))\n",
        "\n",
        "idx_time = [0, Nt // 4, Nt // 2, 3 * Nt // 4, Nt - 1]  # Pega 5 instantes de tempo\n",
        "for i, t_idx in enumerate(idx_time):\n",
        "    line = ax.plot(x, U_sol[t_idx, :], label=f\"t = {t[t_idx]:.2f} s (true)\")[0]\n",
        "    plot_color = line.get_color()\n",
        "    ax.plot(x, U_pred[t_idx, :], \"x\", color=plot_color, label=f\"t = {t[t_idx]:.2f} s (pred)\")\n",
        "\n",
        "ax.set_title(\"Evolução do Perfil de Temperatura\", fontsize=14)\n",
        "ax.set_xlabel(\"Posição (x)\", fontsize=10)\n",
        "ax.set_ylabel(\"Temperatura (U)\", fontsize=10)\n",
        "ax.legend()\n",
        "\n",
        "ax.spines[\"top\"].set_visible(False)\n",
        "ax.spines[\"right\"].set_visible(False)"
      ]
    },
    {
      "cell_type": "code",
      "execution_count": null,
      "metadata": {
        "id": "waISQtGOFKoS"
      },
      "outputs": [],
      "source": [
        "# Mapa de Calor U(x, t) - Valores Reais\n",
        "\n",
        "fig, ax = plt.subplots(1,3, figsize=(25, 3))\n",
        "\n",
        "# Meshgrid para as coordenadas. Note que pcolormesh usa as coordenadas dos cantos.\n",
        "T_grid, X_grid = np.meshgrid(t, x)\n",
        "\n",
        "# A matriz de cores (U_sol.T) deve ter dimensões (Nx, Nt)\n",
        "# Usamos shading='gouraud' para interpolação suave de cores.\n",
        "im = ax[0].pcolormesh(T_grid, X_grid, U_sol.T, cmap=\"coolwarm\", shading=\"gouraud\")\n",
        "\n",
        "# Adiciona a barra de cores\n",
        "cbar = fig.colorbar(im, ax=ax[0])\n",
        "cbar.set_label(\"Temperatura (U)\", fontsize=10)\n",
        "\n",
        "ax[0].set_title(\"Solução U(x, t)\")\n",
        "ax[0].set_xlabel(\"Tempo (t)\", fontsize=10)\n",
        "ax[0].set_ylabel(\"Posição (x)\", fontsize=10)\n",
        "\n",
        "ax[0].spines[\"top\"].set_visible(False)\n",
        "ax[0].spines[\"right\"].set_visible(False)\n",
        "\n",
        "# Mapa de Calor U(x, t) - Valores Previstos\n",
        "\n",
        "# fig, ax = plt.subplots(figsize=(8, 3))\n",
        "im = ax[1].pcolormesh(T_grid, X_grid, U_pred.T, cmap=\"coolwarm\", shading=\"gouraud\")\n",
        "cbar = fig.colorbar(im, ax=ax[1])\n",
        "cbar.set_label(\"Temperatura (U)\", fontsize=10)\n",
        "\n",
        "ax[1].set_title(\"Predição U(x, t)\")\n",
        "ax[1].set_xlabel(\"Tempo (t)\", fontsize=10)\n",
        "ax[1].set_ylabel(\"Posição (x)\", fontsize=10)\n",
        "\n",
        "ax[1].spines[\"top\"].set_visible(False)\n",
        "ax[1].spines[\"right\"].set_visible(False)\n",
        "\n",
        "# Mapa de Calor do Erro Err(x, t)\n",
        "\n",
        "# fig, ax = plt.subplots(figsize=(8, 3))\n",
        "im = ax[2].pcolormesh(T_grid, X_grid, Err.T, cmap=\"hot\", shading=\"gouraud\")\n",
        "cbar = fig.colorbar(im, ax=ax[2])\n",
        "cbar.set_label(\"Erro\", fontsize=10)\n",
        "\n",
        "ax[2].set_title(\"Erro de Predição\")\n",
        "ax[2].set_xlabel(\"Tempo (t)\", fontsize=10)\n",
        "ax[2].set_ylabel(\"Posição (x)\", fontsize=10)\n",
        "\n",
        "ax[2].spines[\"top\"].set_visible(False)\n",
        "ax[2].spines[\"right\"].set_visible(False)"
      ]
    }
  ],
  "metadata": {
    "accelerator": "GPU",
    "colab": {
      "gpuType": "T4",
      "provenance": []
    },
    "kernelspec": {
      "display_name": "env",
      "language": "python",
      "name": "python3"
    },
    "language_info": {
      "codemirror_mode": {
        "name": "ipython",
        "version": 3
      },
      "file_extension": ".py",
      "mimetype": "text/x-python",
      "name": "python",
      "nbconvert_exporter": "python",
      "pygments_lexer": "ipython3",
      "version": "3.10.18"
    }
  },
  "nbformat": 4,
  "nbformat_minor": 0
}
